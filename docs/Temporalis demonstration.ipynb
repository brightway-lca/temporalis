{
 "cells": [
  {
   "cell_type": "markdown",
   "metadata": {},
   "source": [
    "# Temporalis demonstration notebook\n",
    "\n",
    "This notebook demonstrates the use of the [Temporalis](http://temporalis.readthedocs.io/en/latest/) software. You should probably also know about the [Brightway2 LCA framework](http://brightwaylca.org/)."
   ]
  },
  {
   "cell_type": "code",
   "execution_count": 2,
   "metadata": {
    "ExecuteTime": {
     "end_time": "2018-03-04T06:52:01.891615Z",
     "start_time": "2018-03-04T06:51:22.855568Z"
    }
   },
   "outputs": [
    {
     "name": "stdout",
     "output_type": "stream",
     "text": [
      "Temporialis version: (1, 0, 'RC2')\n"
     ]
    }
   ],
   "source": [
    "import bw2temporalis\n",
    "print(\"Temporialis version:\", bw2temporalis.__version__)\n",
    "assert bw2temporalis.__version__ >= (1, 0), \"Temporalis needs to be upgraded!\""
   ]
  },
  {
   "cell_type": "code",
   "execution_count": 3,
   "metadata": {
    "ExecuteTime": {
     "end_time": "2018-03-04T06:52:02.064828Z",
     "start_time": "2018-03-04T06:52:01.893263Z"
    }
   },
   "outputs": [],
   "source": [
    "from brightway2 import *\n",
    "from bw2temporalis import *\n",
    "import numpy as np"
   ]
  },
  {
   "cell_type": "code",
   "execution_count": 4,
   "metadata": {
    "ExecuteTime": {
     "end_time": "2018-03-04T06:52:02.143110Z",
     "start_time": "2018-03-04T06:52:02.067613Z"
    },
    "scrolled": true
   },
   "outputs": [],
   "source": [
    "if \"tempo_demo\" not in list(projects):\n",
    "    projects.create_project(\"tempo_demo\")\n",
    "projects.set_current(\"tempo_demo\")"
   ]
  },
  {
   "cell_type": "code",
   "execution_count": 5,
   "metadata": {
    "ExecuteTime": {
     "end_time": "2018-03-04T06:52:02.148521Z",
     "start_time": "2018-03-04T06:52:02.145188Z"
    }
   },
   "outputs": [],
   "source": [
    "if \"biosphere3\" not in databases:\n",
    "    create_default_biosphere3()"
   ]
  },
  {
   "cell_type": "markdown",
   "metadata": {},
   "source": [
    "## Creating a temporal inventory database"
   ]
  },
  {
   "cell_type": "code",
   "execution_count": 6,
   "metadata": {
    "ExecuteTime": {
     "end_time": "2018-03-04T06:52:02.190340Z",
     "start_time": "2018-03-04T06:52:02.150878Z"
    }
   },
   "outputs": [],
   "source": [
    "METHANE = ('biosphere3', '0795345f-c7ae-410c-ad25-1845784c75f5')  # Methane, fossil, air, kg\n",
    "CO2 = ('biosphere3', '349b29d1-3e58-4c66-98b9-9d1a076efd2e')      # CO2, fossil, air, kg"
   ]
  },
  {
   "cell_type": "code",
   "execution_count": 7,
   "metadata": {
    "ExecuteTime": {
     "end_time": "2018-03-04T06:52:02.876978Z",
     "start_time": "2018-03-04T06:52:02.192236Z"
    }
   },
   "outputs": [
    {
     "name": "stderr",
     "output_type": "stream",
     "text": [
      "Writing activities to SQLite3 database:\n",
      "0%        100%\n",
      "[############] | ETA: 00:00:00\n",
      "Total time elapsed: 00:00:00\n"
     ]
    },
    {
     "name": "stdout",
     "output_type": "stream",
     "text": [
      "Title: Writing activities to SQLite3 database:\n",
      "  Started: 03/04/2018 07:52:02\n",
      "  Finished: 03/04/2018 07:52:02\n",
      "  Total time elapsed: 00:00:00\n",
      "  CPU %: 163.60\n",
      "  Memory %: 1.79\n"
     ]
    }
   ],
   "source": [
    "data = {\n",
    "    ('example', 'Functional Unit'): {\n",
    "        'exchanges': [\n",
    "            {\n",
    "                'amount': 5,\n",
    "                'input': ('example', 'EOL'),\n",
    "                'temporal distribution': [\n",
    "                TemporalDistribution(np.array([ 0,  1,  2,  3,  4],dtype='timedelta64[Y]') ,np.array([1.0, 1.0, 1.0, 1.0, 1.0])),\n",
    "                ],\n",
    "                'type': 'technosphere'\n",
    "            },\n",
    "        ],\n",
    "        'name': 'Functional Unit',\n",
    "        'type': 'process'\n",
    "    },\n",
    "    ('example', 'EOL'): {\n",
    "        'exchanges': [\n",
    "            {\n",
    "                'amount': 0.8,\n",
    "                'input': ('example', 'Waste'),\n",
    "                'type': 'technosphere'\n",
    "            },\n",
    "            {\n",
    "                'amount': 0.2,\n",
    "                'input': ('example', 'Landfill'),\n",
    "                'type': 'technosphere'\n",
    "            },\n",
    "            {\n",
    "                'amount': 1,\n",
    "                'input': ('example', 'Use'),\n",
    "                'type': 'technosphere'\n",
    "            },\n",
    "        ],\n",
    "        'name': 'EOL',\n",
    "        'type': 'process'\n",
    "    },\n",
    "    ('example', 'Use'): {\n",
    "        'exchanges': [\n",
    "            {\n",
    "                'amount': 1,\n",
    "                'input': ('example', 'Production'),\n",
    "                'temporal distribution': TemporalDistribution(np.array([4],dtype='timedelta64[M]') ,np.array([1.0])),\n",
    "                'type': 'technosphere'\n",
    "            },\n",
    "        ],\n",
    "        'name': 'Use',\n",
    "        'type': 'process'\n",
    "    },\n",
    "    ('example', 'Production'): {\n",
    "        'exchanges': [\n",
    "            {\n",
    "                'amount': 1,\n",
    "                'input': ('example', 'Transport'),\n",
    "                'temporal distribution': TemporalDistribution(np.array([200],dtype='timedelta64[D]') ,np.array([1.0])),\n",
    "                'type': 'technosphere'\n",
    "            },\n",
    "        ],\n",
    "        'name': 'Production',\n",
    "        'type': 'process'\n",
    "    },\n",
    "    ('example', 'Transport'): {\n",
    "        'exchanges': [\n",
    "            {\n",
    "                'amount': 1,\n",
    "                'input': ('example', 'Sawmill'),\n",
    "                'type': 'technosphere'\n",
    "            },\n",
    "            {\n",
    "                'amount': 0.1,\n",
    "                'input': CO2,\n",
    "                'type': 'biosphere'\n",
    "            },\n",
    "        ],\n",
    "        'name': 'Production',\n",
    "        'type': 'process'\n",
    "    },\n",
    "    ('example', 'Sawmill'): {\n",
    "        'exchanges': [\n",
    "            {\n",
    "                'amount': 1.2,\n",
    "                'input': ('example', 'Forest'),\n",
    "                'temporal distribution': TemporalDistribution(np.array([14],dtype='timedelta64[M]') ,np.array([1.2])),\n",
    "                'type': 'technosphere'\n",
    "            },\n",
    "            {\n",
    "                'amount': 0.1,\n",
    "                'input': CO2,\n",
    "                'type': 'biosphere'\n",
    "            },\n",
    "        ],\n",
    "        'name': 'Sawmill',\n",
    "        'type': 'process'\n",
    "    },\n",
    "    ('example', 'Forest'): {\n",
    "        'exchanges': [\n",
    "            {\n",
    "                'amount': -.2 * 6,\n",
    "                'input': CO2,\n",
    "                'temporal distribution': TemporalDistribution(np.array([-4,-3,0,1,2,5],dtype='timedelta64[Y]') ,np.array([-.2]*6)),             \n",
    "                'type': 'biosphere'\n",
    "            },\n",
    "            {\n",
    "                'amount': 1.5,\n",
    "                'input': ('example', 'Thinning'),\n",
    "                'temporal distribution': TemporalDistribution(np.array([-3,0,1],dtype='timedelta64[Y]') ,np.array([.5]*3)),\n",
    "                'type': 'technosphere'\n",
    "            },\n",
    "        ],\n",
    "        'name': 'Forest',\n",
    "        'type': 'process'\n",
    "    },\n",
    "    ('example', 'Thinning'): {\n",
    "        'exchanges': [\n",
    "            {\n",
    "                'amount': 1,\n",
    "                'input': ('example', 'Thinning'),\n",
    "                'type': 'production'\n",
    "            },\n",
    "            {\n",
    "                'amount': 1,\n",
    "                'input': ('example', 'Avoided impact - thinnings'),\n",
    "                'type': 'production'\n",
    "            },\n",
    "        ],\n",
    "        'name': 'Thinning',\n",
    "        'type': 'process'\n",
    "    },\n",
    "    ('example', 'Landfill'): {\n",
    "        'exchanges': [\n",
    "            {\n",
    "                'amount': 0.1,\n",
    "                'input': METHANE,\n",
    "                'temporal distribution': TemporalDistribution(np.array([10,20,40,60],dtype='timedelta64[M]') ,np.array([0.025]*4)), \n",
    "\n",
    "                'type': 'biosphere'\n",
    "            },\n",
    "        ],\n",
    "        'name': 'Landfill',\n",
    "        'type': 'process'\n",
    "    },\n",
    "    ('example', 'Waste'): {\n",
    "        'exchanges': [\n",
    "            {\n",
    "                'amount': 1,\n",
    "                'input': ('example', 'Waste'),\n",
    "                'type': 'production'\n",
    "            },\n",
    "            {\n",
    "                'amount': 1,\n",
    "                'input': ('example', 'Avoided impact - waste'),\n",
    "                'type': 'production'\n",
    "            },\n",
    "        ],\n",
    "        'name': 'Waste',\n",
    "        'type': 'process'\n",
    "    },\n",
    "    ('example', 'Avoided impact - waste'): {\n",
    "        'exchanges': [\n",
    "            {\n",
    "                'amount': -0.6,\n",
    "                'input': CO2,\n",
    "                'type': 'biosphere'\n",
    "            },\n",
    "            {\n",
    "                'amount': 1,\n",
    "                'input': ('example', 'Avoided impact - waste'),\n",
    "                'type': 'production'\n",
    "            },\n",
    "        ],\n",
    "        'name': 'Avoided impact - waste',\n",
    "        'type': 'process'\n",
    "    },\n",
    "    ('example', 'Avoided impact - thinnings'): {\n",
    "        'exchanges': [\n",
    "            {\n",
    "                'amount': -0.2,\n",
    "                'input': CO2,\n",
    "                'type': 'biosphere'\n",
    "            },\n",
    "            {\n",
    "                'amount': 1,\n",
    "                'input': ('example', 'Avoided impact - thinnings'),\n",
    "                'type': 'production'\n",
    "            },\n",
    "        ],\n",
    "        'name': 'Avoided impact - thinnings',\n",
    "        'type': 'process'\n",
    "    }\n",
    "}\n",
    "\n",
    "db = Database(\"example\")\n",
    "db.write(data)"
   ]
  },
  {
   "cell_type": "markdown",
   "metadata": {},
   "source": [
    "## Create static LCIA method\n",
    "\n",
    "Note the units will be different from the dynamic method; this is watts/m2.\n",
    "\n",
    "Values from 2013 assessment report."
   ]
  },
  {
   "cell_type": "code",
   "execution_count": 8,
   "metadata": {
    "ExecuteTime": {
     "end_time": "2018-03-04T06:52:02.885637Z",
     "start_time": "2018-03-04T06:52:02.879427Z"
    }
   },
   "outputs": [],
   "source": [
    "if ('IPCC 2013 100',) not in methods:\n",
    "    standard_ipcc = Method(('IPCC 2013 100',))\n",
    "    standard_ipcc.register()\n",
    "    standard_ipcc.write([\n",
    "        [CO2, 1],\n",
    "        [METHANE, 34]\n",
    "    ])"
   ]
  },
  {
   "cell_type": "markdown",
   "metadata": {},
   "source": [
    "## Create dynamic methods\n",
    "\n",
    "Adapted from [co-fire library](https://github.com/gschivley/co-fire).\n",
    "\n",
    "Units are degree Kelvin."
   ]
  },
  {
   "cell_type": "code",
   "execution_count": 9,
   "metadata": {
    "ExecuteTime": {
     "end_time": "2018-03-04T06:52:02.936473Z",
     "start_time": "2018-03-04T06:52:02.888443Z"
    }
   },
   "outputs": [],
   "source": [
    "if \"GTP OP base\" not in dynamic_methods:\n",
    "    create_climate_methods()"
   ]
  },
  {
   "cell_type": "markdown",
   "metadata": {},
   "source": [
    "## Check static LCA scores"
   ]
  },
  {
   "cell_type": "code",
   "execution_count": 10,
   "metadata": {
    "ExecuteTime": {
     "end_time": "2018-03-04T06:52:03.036593Z",
     "start_time": "2018-03-04T06:52:02.939030Z"
    }
   },
   "outputs": [
    {
     "data": {
      "text/plain": [
       "0.27999995470046835"
      ]
     },
     "execution_count": 10,
     "metadata": {},
     "output_type": "execute_result"
    }
   ],
   "source": [
    "lca = LCA({('example', 'EOL'): 1}, ('IPCC 2013 100',))\n",
    "lca.lci()\n",
    "lca.lcia()\n",
    "lca.score"
   ]
  },
  {
   "cell_type": "code",
   "execution_count": 11,
   "metadata": {
    "ExecuteTime": {
     "end_time": "2018-03-04T06:52:03.304729Z",
     "start_time": "2018-03-04T06:52:03.038356Z"
    }
   },
   "outputs": [
    {
     "data": {
      "text/plain": [
       "[(-1.4400001144409202, 1.2000000476837158, 'Forest' (None, None, None)),\n",
       " (0.68000002026557937, 0.20000000298023224, 'Landfill' (None, None, None)),\n",
       " (0.48000002622604399,\n",
       "  -0.80000001192092896,\n",
       "  'Avoided impact - waste' (None, None, None)),\n",
       " (0.36000001966953299,\n",
       "  -1.8000000715255737,\n",
       "  'Avoided impact - thinnings' (None, None, None)),\n",
       " (0.10000000149011612, 1.0, 'Sawmill' (None, None, None)),\n",
       " (0.10000000149011612, 1.0, 'Production' (None, None, None)),\n",
       " (0.0, 0.80000001192092896, 'Waste' (None, None, None)),\n",
       " (0.0, 1.8000000715255737, 'Thinning' (None, None, None)),\n",
       " (0.0, 1.0, 'Production' (None, None, None)),\n",
       " (0.0, 1.0, 'Use' (None, None, None)),\n",
       " (0.0, 1.0, 'EOL' (None, None, None)),\n",
       " (0.0, 0.0, 'Functional Unit' (None, None, None))]"
      ]
     },
     "execution_count": 11,
     "metadata": {},
     "output_type": "execute_result"
    }
   ],
   "source": [
    "from bw2analyzer import ContributionAnalysis\n",
    "\n",
    "ContributionAnalysis().annotated_top_processes(lca)"
   ]
  },
  {
   "cell_type": "code",
   "execution_count": 12,
   "metadata": {
    "ExecuteTime": {
     "end_time": "2018-03-04T06:52:03.353866Z",
     "start_time": "2018-03-04T06:52:03.306213Z"
    }
   },
   "outputs": [
    {
     "data": {
      "text/plain": [
       "[(0.68000002026557937,\n",
       "  0.020000000596046452,\n",
       "  'Methane, fossil' (kilogram, None, ('air',))),\n",
       " (-0.40000006556511103,\n",
       "  -0.40000006556511103,\n",
       "  'Carbon dioxide, fossil' (kilogram, None, ('air',)))]"
      ]
     },
     "execution_count": 12,
     "metadata": {},
     "output_type": "execute_result"
    }
   ],
   "source": [
    "ContributionAnalysis().annotated_top_emissions(lca)"
   ]
  },
  {
   "cell_type": "markdown",
   "metadata": {},
   "source": [
    "## Dynamic LCA"
   ]
  },
  {
   "cell_type": "code",
   "execution_count": 13,
   "metadata": {
    "ExecuteTime": {
     "end_time": "2018-03-04T06:52:03.392099Z",
     "start_time": "2018-03-04T06:52:03.355891Z"
    }
   },
   "outputs": [],
   "source": [
    "%matplotlib inline"
   ]
  },
  {
   "cell_type": "code",
   "execution_count": 14,
   "metadata": {
    "ExecuteTime": {
     "end_time": "2018-03-04T06:52:03.422109Z",
     "start_time": "2018-03-04T06:52:03.394233Z"
    }
   },
   "outputs": [],
   "source": [
    "from matplotlib import pyplot as plt\n",
    "import numpy as np"
   ]
  },
  {
   "cell_type": "code",
   "execution_count": 15,
   "metadata": {
    "ExecuteTime": {
     "end_time": "2018-03-04T06:52:03.548905Z",
     "start_time": "2018-03-04T06:52:03.424069Z"
    },
    "scrolled": true
   },
   "outputs": [],
   "source": [
    "dlca = DynamicLCA({('example', 'EOL'): 1}, (\"GTP OP base\", \"worst case\"))\n",
    "timeline = dlca.calculate()"
   ]
  },
  {
   "cell_type": "code",
   "execution_count": 16,
   "metadata": {
    "ExecuteTime": {
     "end_time": "2018-03-04T06:52:03.601773Z",
     "start_time": "2018-03-04T06:52:03.551572Z"
    }
   },
   "outputs": [],
   "source": [
    "characterized = timeline.characterize_dynamic(\"GTP OP base\")"
   ]
  },
  {
   "cell_type": "code",
   "execution_count": 17,
   "metadata": {
    "ExecuteTime": {
     "end_time": "2018-03-04T06:52:03.608041Z",
     "start_time": "2018-03-04T06:52:03.603945Z"
    }
   },
   "outputs": [],
   "source": [
    "%matplotlib inline"
   ]
  },
  {
   "cell_type": "code",
   "execution_count": 18,
   "metadata": {
    "ExecuteTime": {
     "end_time": "2018-03-04T06:52:03.767424Z",
     "start_time": "2018-03-04T06:52:03.610382Z"
    }
   },
   "outputs": [],
   "source": [
    "import seaborn as sns\n",
    "import matplotlib.pyplot as plt\n",
    "\n",
    "sns.set(style=\"white\", palette=\"muted\", color_codes=True)"
   ]
  },
  {
   "cell_type": "code",
   "execution_count": 19,
   "metadata": {
    "ExecuteTime": {
     "end_time": "2018-03-04T06:52:04.086011Z",
     "start_time": "2018-03-04T06:52:03.769337Z"
    }
   },
   "outputs": [
    {
     "data": {
      "image/png": "[encoded data removed]",
      "text/plain": [
       "<matplotlib.figure.Figure at 0x7fb676041f28>"
      ]
     },
     "metadata": {},
     "output_type": "display_data"
    }
   ],
   "source": [
    "plt.plot(*characterized)\n",
    "plt.xlabel(\"Time (years)\")\n",
    "plt.ylabel(r\"$\\Delta T$ (° Kelvin)\")\n",
    "plt.tight_layout()"
   ]
  },
  {
   "cell_type": "code",
   "execution_count": null,
   "metadata": {},
   "outputs": [],
   "source": []
  }
 ],
 "metadata": {
  "kernelspec": {
   "display_name": "Python 3",
   "language": "python",
   "name": "python3"
  },
  "language_info": {
   "codemirror_mode": {
    "name": "ipython",
    "version": 3
   },
   "file_extension": ".py",
   "mimetype": "text/x-python",
   "name": "python",
   "nbconvert_exporter": "python",
   "pygments_lexer": "ipython3",
   "version": "3.6.3"
  }
 },
 "nbformat": 4,
 "nbformat_minor": 1
}
