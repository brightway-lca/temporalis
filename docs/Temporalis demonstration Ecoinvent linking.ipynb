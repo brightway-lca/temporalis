{
 "cells": [
  {
   "cell_type": "markdown",
   "metadata": {},
   "source": [
    "# Temporalis demonstration notebook\n",
    "\n",
    "This notebook demonstrates the use of the [Temporalis](http://temporalis.readthedocs.io/en/latest/) software. You should probably also know about the [Brightway2 LCA framework](http://brightwaylca.org/)."
   ]
  },
  {
   "cell_type": "code",
   "execution_count": 2,
   "metadata": {
    "ExecuteTime": {
     "end_time": "2018-03-04T07:01:35.566146Z",
     "start_time": "2018-03-04T07:00:58.628388Z"
    }
   },
   "outputs": [
    {
     "name": "stdout",
     "output_type": "stream",
     "text": [
      "Temporialis version: (1, 0, 'RC2')\n"
     ]
    }
   ],
   "source": [
    "import bw2temporalis\n",
    "print(\"Temporialis version:\", bw2temporalis.__version__)\n",
    "assert bw2temporalis.__version__ >= (1, 0), \"Temporalis needs to be upgraded!\""
   ]
  },
  {
   "cell_type": "code",
   "execution_count": 3,
   "metadata": {
    "ExecuteTime": {
     "end_time": "2018-03-04T07:01:35.690383Z",
     "start_time": "2018-03-04T07:01:35.568192Z"
    }
   },
   "outputs": [],
   "source": [
    "from brightway2 import *\n",
    "from bw2temporalis import *\n",
    "import numpy as np"
   ]
  },
  {
   "cell_type": "code",
   "execution_count": 4,
   "metadata": {
    "ExecuteTime": {
     "end_time": "2018-03-04T07:01:35.770693Z",
     "start_time": "2018-03-04T07:01:35.692646Z"
    }
   },
   "outputs": [],
   "source": [
    "if \"tempo_demo\" not in list(projects):\n",
    "    projects.create_project(\"tempo_demo\")\n",
    "projects.set_current(\"tempo_demo\")"
   ]
  },
  {
   "cell_type": "code",
   "execution_count": 5,
   "metadata": {
    "ExecuteTime": {
     "end_time": "2018-03-04T07:01:35.775165Z",
     "start_time": "2018-03-04T07:01:35.772464Z"
    }
   },
   "outputs": [],
   "source": [
    "if \"biosphere3\" not in databases:\n",
    "    create_default_biosphere3()"
   ]
  },
  {
   "cell_type": "code",
   "execution_count": 6,
   "metadata": {
    "ExecuteTime": {
     "end_time": "2018-03-04T07:05:58.060950Z",
     "start_time": "2018-03-04T07:01:35.776826Z"
    }
   },
   "outputs": [
    {
     "name": "stdout",
     "output_type": "stream",
     "text": [
      "Extracting XML data from 12916 datasets\n",
      "Extracted 12916 datasets in 23.87 seconds\n",
      "Applying strategy: normalize_units\n",
      "Applying strategy: remove_zero_amount_coproducts\n",
      "Applying strategy: remove_zero_amount_inputs_with_no_activity\n",
      "Applying strategy: remove_unnamed_parameters\n",
      "Applying strategy: es2_assign_only_product_with_amount_as_reference_product\n",
      "Applying strategy: assign_single_product_as_activity\n",
      "Applying strategy: create_composite_code\n",
      "Applying strategy: drop_unspecified_subcategories\n",
      "Applying strategy: link_biosphere_by_flow_uuid\n",
      "Applying strategy: link_internal_technosphere_by_composite_code\n",
      "Applying strategy: delete_exchanges_missing_activity\n",
      "Applying strategy: delete_ghost_exchanges\n",
      "Applying strategy: remove_uncertainty_from_negative_loss_exchanges\n",
      "Applying strategy: fix_unreasonably_high_lognormal_uncertainties\n",
      "Applying strategy: set_lognormal_loc_value\n",
      "Applied 15 strategies in 2.91 seconds\n"
     ]
    },
    {
     "name": "stderr",
     "output_type": "stream",
     "text": [
      "Writing activities to SQLite3 database:\n",
      "0%                          100%\n",
      "[##############################] | ETA: 00:00:00\n",
      "Total time elapsed: 00:02:23\n"
     ]
    },
    {
     "name": "stdout",
     "output_type": "stream",
     "text": [
      "Title: Writing activities to SQLite3 database:\n",
      "  Started: 03/04/2018 08:02:09\n",
      "  Finished: 03/04/2018 08:04:32\n",
      "  Total time elapsed: 00:02:23\n",
      "  CPU %: 36.00\n",
      "  Memory %: 11.59\n",
      "Created database: ecoinvent 3.1 cutoff\n"
     ]
    },
    {
     "data": {
      "text/plain": [
       "Brightway2 SQLiteBackend: ecoinvent 3.1 cutoff"
      ]
     },
     "execution_count": 6,
     "metadata": {},
     "output_type": "execute_result"
    }
   ],
   "source": [
    "ei = SingleOutputEcospold2Importer(\n",
    "    \"/media/giuseppec/25F62A4E5FEED162/work/LCA_db-software/ecoinvent/current_Version_3.2_cutoff_ecoSpold02/datasets\", #CHANGE WITH THE FILEPATH OF YOUR ECOINVENT 3.2 CUTOFF\n",
    "    \"ecoinvent 3.1 cutoff\"\n",
    ")\n",
    "ei.apply_strategies()\n",
    "ei.write_database()"
   ]
  },
  {
   "cell_type": "code",
   "execution_count": 7,
   "metadata": {
    "ExecuteTime": {
     "end_time": "2018-03-04T07:05:58.325726Z",
     "start_time": "2018-03-04T07:05:58.064035Z"
    }
   },
   "outputs": [
    {
     "data": {
      "text/plain": [
       "12916"
      ]
     },
     "execution_count": 7,
     "metadata": {},
     "output_type": "execute_result"
    }
   ],
   "source": [
    "ei = None\n",
    "db = Database(\"ecoinvent 3.1 cutoff\")\n",
    "len(db)"
   ]
  },
  {
   "cell_type": "code",
   "execution_count": 8,
   "metadata": {
    "ExecuteTime": {
     "end_time": "2018-03-04T07:05:58.349466Z",
     "start_time": "2018-03-04T07:05:58.327377Z"
    }
   },
   "outputs": [],
   "source": [
    "databases['ecoinvent 3.1 cutoff']['static'] = True\n",
    "databases.flush()"
   ]
  },
  {
   "cell_type": "markdown",
   "metadata": {},
   "source": [
    "## Creating a temporal inventory database"
   ]
  },
  {
   "cell_type": "code",
   "execution_count": 9,
   "metadata": {
    "ExecuteTime": {
     "end_time": "2018-03-04T07:05:58.374883Z",
     "start_time": "2018-03-04T07:05:58.351367Z"
    }
   },
   "outputs": [],
   "source": [
    "METHANE = ('biosphere3', '0795345f-c7ae-410c-ad25-1845784c75f5')  # Methane, fossil, air, kg\n",
    "CO2 = ('biosphere3', '349b29d1-3e58-4c66-98b9-9d1a076efd2e')      # CO2, fossil, air, kg"
   ]
  },
  {
   "cell_type": "code",
   "execution_count": 10,
   "metadata": {
    "ExecuteTime": {
     "end_time": "2018-03-04T07:05:59.335995Z",
     "start_time": "2018-03-04T07:05:58.377069Z"
    }
   },
   "outputs": [
    {
     "name": "stderr",
     "output_type": "stream",
     "text": [
      "Writing activities to SQLite3 database:\n",
      "0%        100%\n",
      "[############] | ETA: 00:00:00\n",
      "Total time elapsed: 00:00:00\n"
     ]
    },
    {
     "name": "stdout",
     "output_type": "stream",
     "text": [
      "Title: Writing activities to SQLite3 database:\n",
      "  Started: 03/04/2018 08:05:59\n",
      "  Finished: 03/04/2018 08:05:59\n",
      "  Total time elapsed: 00:00:00\n",
      "  CPU %: 171.20\n",
      "  Memory %: 12.05\n"
     ]
    }
   ],
   "source": [
    "data = {\n",
    "    ('example', 'Functional Unit'): {\n",
    "        'exchanges': [\n",
    "            {\n",
    "                'amount': 5,\n",
    "                'input': ('example', 'EOL'),\n",
    "                'temporal distribution': [\n",
    "                TemporalDistribution(np.array([ 0,  1,  2,  3,  4],dtype='timedelta64[Y]') ,np.array([1.0, 1.0, 1.0, 1.0, 1.0])),\n",
    "                ],\n",
    "                'type': 'technosphere'\n",
    "            },\n",
    "        ],\n",
    "        'name': 'Functional Unit',\n",
    "        'type': 'process'\n",
    "    },\n",
    "    ('example', 'EOL'): {\n",
    "        'exchanges': [\n",
    "            {\n",
    "                'amount': 0.8,\n",
    "                'input': ('example', 'Waste'),\n",
    "                'type': 'technosphere'\n",
    "            },\n",
    "            {\n",
    "                'amount': 0.2,\n",
    "                'input': ('example', 'Landfill'),\n",
    "                'type': 'technosphere'\n",
    "            },\n",
    "            {\n",
    "                'amount': 1,\n",
    "                'input': ('example', 'Use'),\n",
    "                'type': 'technosphere'\n",
    "            },\n",
    "        ],\n",
    "        'name': 'EOL',\n",
    "        'type': 'process'\n",
    "    },\n",
    "    ('example', 'Use'): {\n",
    "        'exchanges': [\n",
    "            {\n",
    "                'amount': 1,\n",
    "                'input': ('example', 'Production'),\n",
    "                'temporal distribution': TemporalDistribution(np.array([4],dtype='timedelta64[M]') ,np.array([1.0])),\n",
    "                'type': 'technosphere'\n",
    "            },\n",
    "        ],\n",
    "        'name': 'Use',\n",
    "        'type': 'process'\n",
    "    },\n",
    "    ('example', 'Production'): {\n",
    "        'exchanges': [\n",
    "            {\n",
    "                'amount': 1,\n",
    "                'input': ('example', 'Transport'),\n",
    "                'temporal distribution': TemporalDistribution(np.array([200],dtype='timedelta64[D]') ,np.array([1.0])),\n",
    "                'type': 'technosphere'\n",
    "            },\n",
    "        ],\n",
    "        'name': 'Production',\n",
    "        'type': 'process'\n",
    "    },\n",
    "    ('example', 'Transport'): {\n",
    "        'exchanges': [\n",
    "            {\n",
    "                'amount': 1,\n",
    "                'input': ('example', 'Sawmill'),\n",
    "                'type': 'technosphere'\n",
    "            },\n",
    "            {\n",
    "                'amount': 0.1,\n",
    "                'input': CO2,\n",
    "                'type': 'biosphere'\n",
    "            },\n",
    "        ],\n",
    "        'name': 'Production',\n",
    "        'type': 'process'\n",
    "    },\n",
    "    ('example', 'Sawmill'): {\n",
    "        'exchanges': [\n",
    "            {\n",
    "                'amount': 1.2,\n",
    "                'input': ('example', 'Forest'),\n",
    "                'temporal distribution': TemporalDistribution(np.array([14],dtype='timedelta64[M]') ,np.array([1.2])),\n",
    "                'type': 'technosphere'\n",
    "            },\n",
    "            {\n",
    "                'amount': 0.1,\n",
    "                'input': CO2,\n",
    "                'type': 'biosphere'\n",
    "            },\n",
    "        ],\n",
    "        'name': 'Sawmill',\n",
    "        'type': 'process'\n",
    "    },\n",
    "    ('example', 'Forest'): {\n",
    "        'exchanges': [\n",
    "            {\n",
    "                'amount': -.2 * 6,\n",
    "                'input': CO2,\n",
    "                'temporal distribution': TemporalDistribution(np.array([-4,-3,0,1,2,5],dtype='timedelta64[Y]') ,np.array([-.2]*6)),             \n",
    "                'type': 'biosphere'\n",
    "            },\n",
    "            {\n",
    "                'amount': 1.5,\n",
    "                'input': db.random(),\n",
    "                'temporal distribution': TemporalDistribution(np.array([-3,0,1],dtype='timedelta64[Y]') ,np.array([.5]*3)),\n",
    "                'type': 'technosphere'\n",
    "            },\n",
    "        ],\n",
    "        'name': 'Forest',\n",
    "        'type': 'process'\n",
    "    },\n",
    "    ('example', 'Thinning'): {\n",
    "        'exchanges': [\n",
    "            {\n",
    "                'amount': 1,\n",
    "                'input': ('example', 'Thinning'),\n",
    "                'type': 'production'\n",
    "            },\n",
    "            {\n",
    "                'amount': 1,\n",
    "                'input': ('example', 'Avoided impact - thinnings'),\n",
    "                'type': 'production'\n",
    "            },\n",
    "        ],\n",
    "        'name': 'Thinning',\n",
    "        'type': 'process'\n",
    "    },\n",
    "    ('example', 'Landfill'): {\n",
    "        'exchanges': [\n",
    "            {\n",
    "                'amount': 0.1,\n",
    "                'input': METHANE,\n",
    "                'temporal distribution': TemporalDistribution(np.array([10,20,40,60],dtype='timedelta64[M]') ,np.array([0.025]*4)), \n",
    "\n",
    "                'type': 'biosphere'\n",
    "            },\n",
    "        ],\n",
    "        'name': 'Landfill',\n",
    "        'type': 'process'\n",
    "    },\n",
    "    ('example', 'Waste'): {\n",
    "        'exchanges': [\n",
    "            {\n",
    "                'amount': 1,\n",
    "                'input': ('example', 'Waste'),\n",
    "                'type': 'production'\n",
    "            },\n",
    "            {\n",
    "                'amount': 1,\n",
    "                'input': ('example', 'Avoided impact - waste'),\n",
    "                'type': 'production'\n",
    "            },\n",
    "        ],\n",
    "        'name': 'Waste',\n",
    "        'type': 'process'\n",
    "    },\n",
    "    ('example', 'Avoided impact - waste'): {\n",
    "        'exchanges': [\n",
    "            {\n",
    "                'amount': -0.6,\n",
    "                'input': CO2,\n",
    "                'type': 'biosphere'\n",
    "            },\n",
    "            {\n",
    "                'amount': 1,\n",
    "                'input': ('example', 'Avoided impact - waste'),\n",
    "                'type': 'production'\n",
    "            },\n",
    "        ],\n",
    "        'name': 'Avoided impact - waste',\n",
    "        'type': 'process'\n",
    "    },\n",
    "    ('example', 'Avoided impact - thinnings'): {\n",
    "        'exchanges': [\n",
    "            {\n",
    "                'amount': -0.2,\n",
    "                'input': CO2,\n",
    "                'type': 'biosphere'\n",
    "            },\n",
    "            {\n",
    "                'amount': 1,\n",
    "                'input': ('example', 'Avoided impact - thinnings'),\n",
    "                'type': 'production'\n",
    "            },\n",
    "        ],\n",
    "        'name': 'Avoided impact - thinnings',\n",
    "        'type': 'process'\n",
    "    }\n",
    "}\n",
    "\n",
    "db = Database(\"example\")\n",
    "db.write(data)"
   ]
  },
  {
   "cell_type": "markdown",
   "metadata": {},
   "source": [
    "## Create static LCIA method\n",
    "\n",
    "Note the units will be different from the dynamic method; this is watts/m2.\n",
    "\n",
    "Values from 2013 assessment report."
   ]
  },
  {
   "cell_type": "code",
   "execution_count": 11,
   "metadata": {
    "ExecuteTime": {
     "end_time": "2018-03-04T07:05:59.343799Z",
     "start_time": "2018-03-04T07:05:59.338281Z"
    }
   },
   "outputs": [],
   "source": [
    "if ('IPCC 2013 100',) not in methods:\n",
    "    standard_ipcc = Method(('IPCC 2013 100',))\n",
    "    standard_ipcc.register()\n",
    "    standard_ipcc.write([\n",
    "        [CO2, 1],\n",
    "        [METHANE, 34]\n",
    "    ])"
   ]
  },
  {
   "cell_type": "markdown",
   "metadata": {},
   "source": [
    "## Create dynamic methods\n",
    "\n",
    "Adapted from [co-fire library](https://github.com/gschivley/co-fire).\n",
    "\n",
    "Units are degree Kelvin."
   ]
  },
  {
   "cell_type": "code",
   "execution_count": 12,
   "metadata": {
    "ExecuteTime": {
     "end_time": "2018-03-04T07:05:59.371089Z",
     "start_time": "2018-03-04T07:05:59.345837Z"
    }
   },
   "outputs": [],
   "source": [
    "if \"GTP OP base\" not in dynamic_methods:\n",
    "    create_climate_methods()"
   ]
  },
  {
   "cell_type": "markdown",
   "metadata": {},
   "source": [
    "## Check static LCA scores"
   ]
  },
  {
   "cell_type": "code",
   "execution_count": 13,
   "metadata": {
    "ExecuteTime": {
     "end_time": "2018-03-04T07:05:59.868256Z",
     "start_time": "2018-03-04T07:05:59.374069Z"
    }
   },
   "outputs": [
    {
     "data": {
      "text/plain": [
       "-0.07263845703390848"
      ]
     },
     "execution_count": 13,
     "metadata": {},
     "output_type": "execute_result"
    }
   ],
   "source": [
    "lca = LCA({('example', 'EOL'): 1}, ('IPCC 2013 100',))\n",
    "lca.lci()\n",
    "lca.lcia()\n",
    "lca.score"
   ]
  },
  {
   "cell_type": "code",
   "execution_count": 14,
   "metadata": {
    "ExecuteTime": {
     "end_time": "2018-03-04T07:06:00.144113Z",
     "start_time": "2018-03-04T07:05:59.869689Z"
    }
   },
   "outputs": [
    {
     "data": {
      "text/plain": [
       "[(-1.4400001144409205, 1.200000047683716, 'Forest' (None, None, None)),\n",
       " (0.68000002026557926, 0.20000000298023221, 'Landfill' (None, None, None)),\n",
       " (0.48000002622604393,\n",
       "  -0.80000001192092884,\n",
       "  'Avoided impact - waste' (None, None, None)),\n",
       " (0.10000000149011612, 1.0, 'Production' (None, None, None)),\n",
       " (0.10000000149011612, 1.0, 'Sawmill' (None, None, None)),\n",
       " (0.0028566315001886501,\n",
       "  0.039063711219791276,\n",
       "  'diesel, burned in building machine' (megajoule, GLO, None)),\n",
       " (0.0011269206609561073,\n",
       "  0.0013272254984801112,\n",
       "  'pig iron production' (kilogram, GLO, None)),\n",
       " (0.0009430913431745945,\n",
       "  0.028028771935282557,\n",
       "  'transport, freight train, diesel' (ton kilometer, US, None)),\n",
       " (0.00029406377797901769,\n",
       "  0.014050243263667181,\n",
       "  'transport, freight train, diesel' (ton kilometer, CN, None)),\n",
       " (0.00028436137444581968,\n",
       "  0.0013935867101170733,\n",
       "  'sinter production, iron' (kilogram, GLO, None)),\n",
       " (0.0002677534900121092,\n",
       "  0.00031926980399949779,\n",
       "  'clinker production' (kilogram, RoW, None)),\n",
       " (0.00013849249540510235,\n",
       "  0.00046182637642579177,\n",
       "  'natural gas production, unprocessed, at extraction' (cubic meter, GLO, None)),\n",
       " (0.00013042416396136526,\n",
       "  0.00035914286710897085,\n",
       "  'natural gas production' (cubic meter, US, None)),\n",
       " (9.135379921713654e-05,\n",
       "  0.00076943898710658484,\n",
       "  'transport, freight, lorry 16-32 metric ton, EURO3' (ton kilometer, RoW, None)),\n",
       " (8.4148988010051358e-05,\n",
       "  0.001346518062029187,\n",
       "  'transport, freight, lorry >32 metric ton, EURO3' (ton kilometer, RoW, None)),\n",
       " (7.6295637467566188e-05,\n",
       "  0.035767061305218187,\n",
       "  'transport, freight train, electricity' (ton kilometer, RoW, None)),\n",
       " (7.6045000606476045e-05,\n",
       "  0.0012446805941625438,\n",
       "  'transport, freight, lorry >32 metric ton, EURO4' (ton kilometer, RoW, None)),\n",
       " (7.4327095522251359e-05,\n",
       "  0.00063365554960443575,\n",
       "  'transport, freight, lorry 16-32 metric ton, EURO4' (ton kilometer, RoW, None)),\n",
       " (6.7941087869723656e-05,\n",
       "  8.8337054513594896e-05,\n",
       "  'clinker production' (kilogram, CH, None)),\n",
       " (6.2837017172127945e-05,\n",
       "  0.00083117749521921037,\n",
       "  'steel production, converter, unalloyed' (kilogram, RoW, None)),\n",
       " (6.0589824985854152e-05,\n",
       "  0.0018007358443250944,\n",
       "  'transport, freight train, diesel' (ton kilometer, Europe without Switzerland, None)),\n",
       " (5.1603513087515658e-05,\n",
       "  5.5908466212178144e-05,\n",
       "  'titanium dioxide production, chloride process' (kilogram, RoW, None)),\n",
       " (3.7132556187275946e-05,\n",
       "  0.00031275367490196773,\n",
       "  'transport, freight, lorry 16-32 metric ton, EURO3' (ton kilometer, RER, None)),\n",
       " (3.5475048091554341e-05,\n",
       "  4.2267326942629742e-05,\n",
       "  'clinker production' (kilogram, Europe without Switzerland, None)),\n",
       " (3.4802121260735722e-05,\n",
       "  2.8304023375915653e-05,\n",
       "  'transport, freight, light commercial vehicle' (ton kilometer, RoW, None))]"
      ]
     },
     "execution_count": 14,
     "metadata": {},
     "output_type": "execute_result"
    }
   ],
   "source": [
    "from bw2analyzer import ContributionAnalysis\n",
    "\n",
    "ContributionAnalysis().annotated_top_processes(lca)"
   ]
  },
  {
   "cell_type": "code",
   "execution_count": 15,
   "metadata": {
    "ExecuteTime": {
     "end_time": "2018-03-04T07:06:00.203450Z",
     "start_time": "2018-03-04T07:06:00.146124Z"
    }
   },
   "outputs": [
    {
     "data": {
      "text/plain": [
       "[(-0.75295701902501178,\n",
       "  -0.75295701902501144,\n",
       "  'Carbon dioxide, fossil' (kilogram, None, ('air',))),\n",
       " (0.68031856199110252,\n",
       "  0.020009369470326544,\n",
       "  'Methane, fossil' (kilogram, None, ('air',))),\n",
       " (0.0,\n",
       "  5.5368134717318074e-07,\n",
       "  'Carbon dioxide, non-fossil, from calcination' (kilogram, None, ['air'])),\n",
       " (0.0,\n",
       "  2.0971338335785255e-18,\n",
       "  'Transformation, to permanent crop, non-irrigated, intensive' (square meter, None, ('natural resource', 'land'))),\n",
       " (0.0,\n",
       "  1.0519715518320957e-07,\n",
       "  'Transformation, to grassland, natural (non-use)' (square meter, None, ('natural resource', 'land'))),\n",
       " (0.0,\n",
       "  1.431862894653485e-07,\n",
       "  'Transformation, to heterogeneous, agricultural' (square meter, None, ('natural resource', 'land'))),\n",
       " (0.0,\n",
       "  2.3290445611374089e-06,\n",
       "  'Transformation, to industrial area' (square meter, None, ('natural resource', 'land'))),\n",
       " (0.0,\n",
       "  3.3268751562579908e-11,\n",
       "  'Transformation, to inland waterbody, unspecified' (square meter, None, ('natural resource', 'land'))),\n",
       " (0.0,\n",
       "  1.0869147747392325e-06,\n",
       "  'Transformation, to lake, artificial' (square meter, None, ('natural resource', 'land'))),\n",
       " (0.0,\n",
       "  7.6065484559029699e-05,\n",
       "  'Transformation, to mineral extraction site' (square meter, None, ('natural resource', 'land'))),\n",
       " (0.0,\n",
       "  1.3415382894172633e-08,\n",
       "  'Transformation, to pasture, man made' (square meter, None, ('natural resource', 'land'))),\n",
       " (0.0,\n",
       "  6.3127954106562735e-15,\n",
       "  'Transformation, to pasture, man made, extensive' (square meter, None, ('natural resource', 'land'))),\n",
       " (0.0,\n",
       "  1.6149080149388075e-13,\n",
       "  'Transformation, to pasture, man made, intensive' (square meter, None, ('natural resource', 'land'))),\n",
       " (0.0,\n",
       "  1.4375878982981082e-08,\n",
       "  'Transformation, to permanent crop' (square meter, None, ('natural resource', 'land'))),\n",
       " (0.0,\n",
       "  1.468000429544229e-09,\n",
       "  'Transformation, to permanent crop, irrigated, intensive' (square meter, None, ('natural resource', 'land'))),\n",
       " (0.0,\n",
       "  0.0,\n",
       "  'Transformation, to permanent crop, non-irrigated' (square meter, None, ('natural resource', 'land'))),\n",
       " (0.0,\n",
       "  4.1865424484801698e-07,\n",
       "  'Transformation, to river, artificial' (square meter, None, ('natural resource', 'land'))),\n",
       " (0.0,\n",
       "  6.7761278600763272e-20,\n",
       "  'Triasulfuron' (kilogram, None, ('soil', 'agricultural'))),\n",
       " (0.0,\n",
       "  7.2954958343523786e-07,\n",
       "  'Transformation, to seabed, drilling and mining' (square meter, None, ('natural resource', 'land'))),\n",
       " (0.0,\n",
       "  1.02122706891648e-09,\n",
       "  'Transformation, to seabed, infrastructure' (square meter, None, ('natural resource', 'land'))),\n",
       " (0.0,\n",
       "  2.9804818426994089e-11,\n",
       "  'Transformation, to seabed, unspecified' (square meter, None, ('natural resource', 'land'))),\n",
       " (0.0,\n",
       "  6.010805833585027e-07,\n",
       "  'Transformation, to shrub land, sclerophyllous' (square meter, None, ('natural resource', 'land'))),\n",
       " (0.0,\n",
       "  2.2222648669374231e-07,\n",
       "  'Transformation, to traffic area, rail network' (square meter, None, ('natural resource', 'land'))),\n",
       " (0.0,\n",
       "  4.1749397126425911e-07,\n",
       "  'Transformation, to traffic area, rail/road embankment' (square meter, None, ('natural resource', 'land'))),\n",
       " (0.0,\n",
       "  1.1363006381704586e-06,\n",
       "  'Transformation, to traffic area, road network' (square meter, None, ('natural resource', 'land')))]"
      ]
     },
     "execution_count": 15,
     "metadata": {},
     "output_type": "execute_result"
    }
   ],
   "source": [
    "ContributionAnalysis().annotated_top_emissions(lca)"
   ]
  },
  {
   "cell_type": "markdown",
   "metadata": {},
   "source": [
    "## Dynamic LCA"
   ]
  },
  {
   "cell_type": "code",
   "execution_count": 16,
   "metadata": {
    "ExecuteTime": {
     "end_time": "2018-03-04T07:06:00.221146Z",
     "start_time": "2018-03-04T07:06:00.205350Z"
    }
   },
   "outputs": [],
   "source": [
    "%matplotlib inline"
   ]
  },
  {
   "cell_type": "code",
   "execution_count": 17,
   "metadata": {
    "ExecuteTime": {
     "end_time": "2018-03-04T07:06:00.233395Z",
     "start_time": "2018-03-04T07:06:00.223385Z"
    }
   },
   "outputs": [],
   "source": [
    "from matplotlib import pyplot as plt\n",
    "import numpy as np"
   ]
  },
  {
   "cell_type": "code",
   "execution_count": 18,
   "metadata": {
    "ExecuteTime": {
     "end_time": "2018-03-04T07:06:00.861269Z",
     "start_time": "2018-03-04T07:06:00.235326Z"
    }
   },
   "outputs": [],
   "source": [
    "dlca = DynamicLCA({('example', 'EOL'): 1}, (\"GTP OP base\", \"worst case\"))\n",
    "timeline = dlca.calculate()"
   ]
  },
  {
   "cell_type": "code",
   "execution_count": 19,
   "metadata": {
    "ExecuteTime": {
     "end_time": "2018-03-04T07:06:00.872554Z",
     "start_time": "2018-03-04T07:06:00.863082Z"
    }
   },
   "outputs": [],
   "source": [
    "dlca.timeline = Timeline()\n",
    "dlca.gt = GraphTraversal()\n",
    "dlca.heap = []\n",
    "dlca.calc_number = 0"
   ]
  },
  {
   "cell_type": "code",
   "execution_count": 21,
   "metadata": {
    "ExecuteTime": {
     "end_time": "2018-03-04T07:06:13.764498Z",
     "start_time": "2018-03-04T07:06:13.545257Z"
    }
   },
   "outputs": [],
   "source": [
    "dlca.gt_results = dlca.gt.calculate(\n",
    "    dlca.demand,\n",
    "    dlca.worst_case_method,\n",
    "#     **dlca.gt_kwargs\n",
    ")"
   ]
  },
  {
   "cell_type": "code",
   "execution_count": 22,
   "metadata": {
    "ExecuteTime": {
     "end_time": "2018-03-04T07:06:14.651925Z",
     "start_time": "2018-03-04T07:06:14.352079Z"
    }
   },
   "outputs": [],
   "source": [
    "characterized = timeline.characterize_dynamic(\"GTP OP base\")"
   ]
  },
  {
   "cell_type": "code",
   "execution_count": 23,
   "metadata": {
    "ExecuteTime": {
     "end_time": "2018-03-04T07:06:14.811140Z",
     "start_time": "2018-03-04T07:06:14.807322Z"
    }
   },
   "outputs": [],
   "source": [
    "%matplotlib inline"
   ]
  },
  {
   "cell_type": "code",
   "execution_count": 24,
   "metadata": {
    "ExecuteTime": {
     "end_time": "2018-03-04T07:06:15.294215Z",
     "start_time": "2018-03-04T07:06:15.182871Z"
    }
   },
   "outputs": [],
   "source": [
    "import seaborn as sns\n",
    "import matplotlib.pyplot as plt\n",
    "\n",
    "sns.set(style=\"white\", palette=\"muted\", color_codes=True)"
   ]
  },
  {
   "cell_type": "code",
   "execution_count": 25,
   "metadata": {
    "ExecuteTime": {
     "end_time": "2018-03-04T07:06:15.885061Z",
     "start_time": "2018-03-04T07:06:15.549785Z"
    }
   },
   "outputs": [
    {
     "data": {
      "image/png": "[encoded data removed]",
      "text/plain": [
       "<matplotlib.figure.Figure at 0x7f2681b0f9e8>"
      ]
     },
     "metadata": {},
     "output_type": "display_data"
    }
   ],
   "source": [
    "plt.plot(*characterized)\n",
    "plt.xlabel(\"Time (years)\")\n",
    "plt.ylabel(r\"$\\Delta T$ (° Kelvin)\")\n",
    "plt.tight_layout()"
   ]
  },
  {
   "cell_type": "code",
   "execution_count": null,
   "metadata": {},
   "outputs": [],
   "source": []
  }
 ],
 "metadata": {
  "kernelspec": {
   "display_name": "Python 3",
   "language": "python",
   "name": "python3"
  },
  "language_info": {
   "codemirror_mode": {
    "name": "ipython",
    "version": 3
   },
   "file_extension": ".py",
   "mimetype": "text/x-python",
   "name": "python",
   "nbconvert_exporter": "python",
   "pygments_lexer": "ipython3",
   "version": "3.6.3"
  }
 },
 "nbformat": 4,
 "nbformat_minor": 1
}
